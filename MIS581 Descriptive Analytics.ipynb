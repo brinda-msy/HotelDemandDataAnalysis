{
 "cells": [
  {
   "cell_type": "code",
   "execution_count": 262,
   "metadata": {},
   "outputs": [
    {
     "data": {
      "text/html": [
       "<div>\n",
       "<style scoped>\n",
       "    .dataframe tbody tr th:only-of-type {\n",
       "        vertical-align: middle;\n",
       "    }\n",
       "\n",
       "    .dataframe tbody tr th {\n",
       "        vertical-align: top;\n",
       "    }\n",
       "\n",
       "    .dataframe thead th {\n",
       "        text-align: right;\n",
       "    }\n",
       "</style>\n",
       "<table border=\"1\" class=\"dataframe\">\n",
       "  <thead>\n",
       "    <tr style=\"text-align: right;\">\n",
       "      <th></th>\n",
       "      <th>hotel</th>\n",
       "      <th>is_canceled</th>\n",
       "      <th>lead_time</th>\n",
       "      <th>arrival_date_year</th>\n",
       "      <th>arrival_date_month</th>\n",
       "      <th>arrival_date_week_number</th>\n",
       "      <th>arrival_date_day_of_month</th>\n",
       "      <th>stays_in_weekend_nights</th>\n",
       "      <th>stays_in_week_nights</th>\n",
       "      <th>adults</th>\n",
       "      <th>...</th>\n",
       "      <th>deposit_type</th>\n",
       "      <th>agent</th>\n",
       "      <th>company</th>\n",
       "      <th>days_in_waiting_list</th>\n",
       "      <th>customer_type</th>\n",
       "      <th>adr</th>\n",
       "      <th>required_car_parking_spaces</th>\n",
       "      <th>total_of_special_requests</th>\n",
       "      <th>reservation_status</th>\n",
       "      <th>reservation_status_date</th>\n",
       "    </tr>\n",
       "  </thead>\n",
       "  <tbody>\n",
       "    <tr>\n",
       "      <th>0</th>\n",
       "      <td>Resort Hotel</td>\n",
       "      <td>0</td>\n",
       "      <td>342</td>\n",
       "      <td>2015</td>\n",
       "      <td>July</td>\n",
       "      <td>27</td>\n",
       "      <td>1</td>\n",
       "      <td>0</td>\n",
       "      <td>0</td>\n",
       "      <td>2</td>\n",
       "      <td>...</td>\n",
       "      <td>No Deposit</td>\n",
       "      <td>NaN</td>\n",
       "      <td>NaN</td>\n",
       "      <td>0</td>\n",
       "      <td>Transient</td>\n",
       "      <td>0.00</td>\n",
       "      <td>0</td>\n",
       "      <td>0</td>\n",
       "      <td>Check-Out</td>\n",
       "      <td>2015-07-01</td>\n",
       "    </tr>\n",
       "    <tr>\n",
       "      <th>1</th>\n",
       "      <td>Resort Hotel</td>\n",
       "      <td>0</td>\n",
       "      <td>737</td>\n",
       "      <td>2015</td>\n",
       "      <td>July</td>\n",
       "      <td>27</td>\n",
       "      <td>1</td>\n",
       "      <td>0</td>\n",
       "      <td>0</td>\n",
       "      <td>2</td>\n",
       "      <td>...</td>\n",
       "      <td>No Deposit</td>\n",
       "      <td>NaN</td>\n",
       "      <td>NaN</td>\n",
       "      <td>0</td>\n",
       "      <td>Transient</td>\n",
       "      <td>0.00</td>\n",
       "      <td>0</td>\n",
       "      <td>0</td>\n",
       "      <td>Check-Out</td>\n",
       "      <td>2015-07-01</td>\n",
       "    </tr>\n",
       "    <tr>\n",
       "      <th>2</th>\n",
       "      <td>Resort Hotel</td>\n",
       "      <td>0</td>\n",
       "      <td>7</td>\n",
       "      <td>2015</td>\n",
       "      <td>July</td>\n",
       "      <td>27</td>\n",
       "      <td>1</td>\n",
       "      <td>0</td>\n",
       "      <td>1</td>\n",
       "      <td>1</td>\n",
       "      <td>...</td>\n",
       "      <td>No Deposit</td>\n",
       "      <td>NaN</td>\n",
       "      <td>NaN</td>\n",
       "      <td>0</td>\n",
       "      <td>Transient</td>\n",
       "      <td>75.00</td>\n",
       "      <td>0</td>\n",
       "      <td>0</td>\n",
       "      <td>Check-Out</td>\n",
       "      <td>2015-07-02</td>\n",
       "    </tr>\n",
       "    <tr>\n",
       "      <th>3</th>\n",
       "      <td>Resort Hotel</td>\n",
       "      <td>0</td>\n",
       "      <td>13</td>\n",
       "      <td>2015</td>\n",
       "      <td>July</td>\n",
       "      <td>27</td>\n",
       "      <td>1</td>\n",
       "      <td>0</td>\n",
       "      <td>1</td>\n",
       "      <td>1</td>\n",
       "      <td>...</td>\n",
       "      <td>No Deposit</td>\n",
       "      <td>304.0</td>\n",
       "      <td>NaN</td>\n",
       "      <td>0</td>\n",
       "      <td>Transient</td>\n",
       "      <td>75.00</td>\n",
       "      <td>0</td>\n",
       "      <td>0</td>\n",
       "      <td>Check-Out</td>\n",
       "      <td>2015-07-02</td>\n",
       "    </tr>\n",
       "    <tr>\n",
       "      <th>4</th>\n",
       "      <td>Resort Hotel</td>\n",
       "      <td>0</td>\n",
       "      <td>14</td>\n",
       "      <td>2015</td>\n",
       "      <td>July</td>\n",
       "      <td>27</td>\n",
       "      <td>1</td>\n",
       "      <td>0</td>\n",
       "      <td>2</td>\n",
       "      <td>2</td>\n",
       "      <td>...</td>\n",
       "      <td>No Deposit</td>\n",
       "      <td>240.0</td>\n",
       "      <td>NaN</td>\n",
       "      <td>0</td>\n",
       "      <td>Transient</td>\n",
       "      <td>98.00</td>\n",
       "      <td>0</td>\n",
       "      <td>1</td>\n",
       "      <td>Check-Out</td>\n",
       "      <td>2015-07-03</td>\n",
       "    </tr>\n",
       "    <tr>\n",
       "      <th>5</th>\n",
       "      <td>Resort Hotel</td>\n",
       "      <td>0</td>\n",
       "      <td>14</td>\n",
       "      <td>2015</td>\n",
       "      <td>July</td>\n",
       "      <td>27</td>\n",
       "      <td>1</td>\n",
       "      <td>0</td>\n",
       "      <td>2</td>\n",
       "      <td>2</td>\n",
       "      <td>...</td>\n",
       "      <td>No Deposit</td>\n",
       "      <td>240.0</td>\n",
       "      <td>NaN</td>\n",
       "      <td>0</td>\n",
       "      <td>Transient</td>\n",
       "      <td>98.00</td>\n",
       "      <td>0</td>\n",
       "      <td>1</td>\n",
       "      <td>Check-Out</td>\n",
       "      <td>2015-07-03</td>\n",
       "    </tr>\n",
       "    <tr>\n",
       "      <th>6</th>\n",
       "      <td>Resort Hotel</td>\n",
       "      <td>0</td>\n",
       "      <td>0</td>\n",
       "      <td>2015</td>\n",
       "      <td>July</td>\n",
       "      <td>27</td>\n",
       "      <td>1</td>\n",
       "      <td>0</td>\n",
       "      <td>2</td>\n",
       "      <td>2</td>\n",
       "      <td>...</td>\n",
       "      <td>No Deposit</td>\n",
       "      <td>NaN</td>\n",
       "      <td>NaN</td>\n",
       "      <td>0</td>\n",
       "      <td>Transient</td>\n",
       "      <td>107.00</td>\n",
       "      <td>0</td>\n",
       "      <td>0</td>\n",
       "      <td>Check-Out</td>\n",
       "      <td>2015-07-03</td>\n",
       "    </tr>\n",
       "    <tr>\n",
       "      <th>7</th>\n",
       "      <td>Resort Hotel</td>\n",
       "      <td>0</td>\n",
       "      <td>9</td>\n",
       "      <td>2015</td>\n",
       "      <td>July</td>\n",
       "      <td>27</td>\n",
       "      <td>1</td>\n",
       "      <td>0</td>\n",
       "      <td>2</td>\n",
       "      <td>2</td>\n",
       "      <td>...</td>\n",
       "      <td>No Deposit</td>\n",
       "      <td>303.0</td>\n",
       "      <td>NaN</td>\n",
       "      <td>0</td>\n",
       "      <td>Transient</td>\n",
       "      <td>103.00</td>\n",
       "      <td>0</td>\n",
       "      <td>1</td>\n",
       "      <td>Check-Out</td>\n",
       "      <td>2015-07-03</td>\n",
       "    </tr>\n",
       "    <tr>\n",
       "      <th>8</th>\n",
       "      <td>Resort Hotel</td>\n",
       "      <td>1</td>\n",
       "      <td>85</td>\n",
       "      <td>2015</td>\n",
       "      <td>July</td>\n",
       "      <td>27</td>\n",
       "      <td>1</td>\n",
       "      <td>0</td>\n",
       "      <td>3</td>\n",
       "      <td>2</td>\n",
       "      <td>...</td>\n",
       "      <td>No Deposit</td>\n",
       "      <td>240.0</td>\n",
       "      <td>NaN</td>\n",
       "      <td>0</td>\n",
       "      <td>Transient</td>\n",
       "      <td>82.00</td>\n",
       "      <td>0</td>\n",
       "      <td>1</td>\n",
       "      <td>Canceled</td>\n",
       "      <td>2015-05-06</td>\n",
       "    </tr>\n",
       "    <tr>\n",
       "      <th>9</th>\n",
       "      <td>Resort Hotel</td>\n",
       "      <td>1</td>\n",
       "      <td>75</td>\n",
       "      <td>2015</td>\n",
       "      <td>July</td>\n",
       "      <td>27</td>\n",
       "      <td>1</td>\n",
       "      <td>0</td>\n",
       "      <td>3</td>\n",
       "      <td>2</td>\n",
       "      <td>...</td>\n",
       "      <td>No Deposit</td>\n",
       "      <td>15.0</td>\n",
       "      <td>NaN</td>\n",
       "      <td>0</td>\n",
       "      <td>Transient</td>\n",
       "      <td>105.50</td>\n",
       "      <td>0</td>\n",
       "      <td>0</td>\n",
       "      <td>Canceled</td>\n",
       "      <td>2015-04-22</td>\n",
       "    </tr>\n",
       "    <tr>\n",
       "      <th>10</th>\n",
       "      <td>Resort Hotel</td>\n",
       "      <td>1</td>\n",
       "      <td>23</td>\n",
       "      <td>2015</td>\n",
       "      <td>July</td>\n",
       "      <td>27</td>\n",
       "      <td>1</td>\n",
       "      <td>0</td>\n",
       "      <td>4</td>\n",
       "      <td>2</td>\n",
       "      <td>...</td>\n",
       "      <td>No Deposit</td>\n",
       "      <td>240.0</td>\n",
       "      <td>NaN</td>\n",
       "      <td>0</td>\n",
       "      <td>Transient</td>\n",
       "      <td>123.00</td>\n",
       "      <td>0</td>\n",
       "      <td>0</td>\n",
       "      <td>Canceled</td>\n",
       "      <td>2015-06-23</td>\n",
       "    </tr>\n",
       "    <tr>\n",
       "      <th>11</th>\n",
       "      <td>Resort Hotel</td>\n",
       "      <td>0</td>\n",
       "      <td>35</td>\n",
       "      <td>2015</td>\n",
       "      <td>July</td>\n",
       "      <td>27</td>\n",
       "      <td>1</td>\n",
       "      <td>0</td>\n",
       "      <td>4</td>\n",
       "      <td>2</td>\n",
       "      <td>...</td>\n",
       "      <td>No Deposit</td>\n",
       "      <td>240.0</td>\n",
       "      <td>NaN</td>\n",
       "      <td>0</td>\n",
       "      <td>Transient</td>\n",
       "      <td>145.00</td>\n",
       "      <td>0</td>\n",
       "      <td>0</td>\n",
       "      <td>Check-Out</td>\n",
       "      <td>2015-07-05</td>\n",
       "    </tr>\n",
       "    <tr>\n",
       "      <th>12</th>\n",
       "      <td>Resort Hotel</td>\n",
       "      <td>0</td>\n",
       "      <td>68</td>\n",
       "      <td>2015</td>\n",
       "      <td>July</td>\n",
       "      <td>27</td>\n",
       "      <td>1</td>\n",
       "      <td>0</td>\n",
       "      <td>4</td>\n",
       "      <td>2</td>\n",
       "      <td>...</td>\n",
       "      <td>No Deposit</td>\n",
       "      <td>240.0</td>\n",
       "      <td>NaN</td>\n",
       "      <td>0</td>\n",
       "      <td>Transient</td>\n",
       "      <td>97.00</td>\n",
       "      <td>0</td>\n",
       "      <td>3</td>\n",
       "      <td>Check-Out</td>\n",
       "      <td>2015-07-05</td>\n",
       "    </tr>\n",
       "    <tr>\n",
       "      <th>13</th>\n",
       "      <td>Resort Hotel</td>\n",
       "      <td>0</td>\n",
       "      <td>18</td>\n",
       "      <td>2015</td>\n",
       "      <td>July</td>\n",
       "      <td>27</td>\n",
       "      <td>1</td>\n",
       "      <td>0</td>\n",
       "      <td>4</td>\n",
       "      <td>2</td>\n",
       "      <td>...</td>\n",
       "      <td>No Deposit</td>\n",
       "      <td>241.0</td>\n",
       "      <td>NaN</td>\n",
       "      <td>0</td>\n",
       "      <td>Transient</td>\n",
       "      <td>154.77</td>\n",
       "      <td>0</td>\n",
       "      <td>1</td>\n",
       "      <td>Check-Out</td>\n",
       "      <td>2015-07-05</td>\n",
       "    </tr>\n",
       "    <tr>\n",
       "      <th>14</th>\n",
       "      <td>Resort Hotel</td>\n",
       "      <td>0</td>\n",
       "      <td>37</td>\n",
       "      <td>2015</td>\n",
       "      <td>July</td>\n",
       "      <td>27</td>\n",
       "      <td>1</td>\n",
       "      <td>0</td>\n",
       "      <td>4</td>\n",
       "      <td>2</td>\n",
       "      <td>...</td>\n",
       "      <td>No Deposit</td>\n",
       "      <td>241.0</td>\n",
       "      <td>NaN</td>\n",
       "      <td>0</td>\n",
       "      <td>Transient</td>\n",
       "      <td>94.71</td>\n",
       "      <td>0</td>\n",
       "      <td>0</td>\n",
       "      <td>Check-Out</td>\n",
       "      <td>2015-07-05</td>\n",
       "    </tr>\n",
       "  </tbody>\n",
       "</table>\n",
       "<p>15 rows × 32 columns</p>\n",
       "</div>"
      ],
      "text/plain": [
       "           hotel  is_canceled  lead_time  arrival_date_year  \\\n",
       "0   Resort Hotel            0        342               2015   \n",
       "1   Resort Hotel            0        737               2015   \n",
       "2   Resort Hotel            0          7               2015   \n",
       "3   Resort Hotel            0         13               2015   \n",
       "4   Resort Hotel            0         14               2015   \n",
       "5   Resort Hotel            0         14               2015   \n",
       "6   Resort Hotel            0          0               2015   \n",
       "7   Resort Hotel            0          9               2015   \n",
       "8   Resort Hotel            1         85               2015   \n",
       "9   Resort Hotel            1         75               2015   \n",
       "10  Resort Hotel            1         23               2015   \n",
       "11  Resort Hotel            0         35               2015   \n",
       "12  Resort Hotel            0         68               2015   \n",
       "13  Resort Hotel            0         18               2015   \n",
       "14  Resort Hotel            0         37               2015   \n",
       "\n",
       "   arrival_date_month  arrival_date_week_number  arrival_date_day_of_month  \\\n",
       "0                July                        27                          1   \n",
       "1                July                        27                          1   \n",
       "2                July                        27                          1   \n",
       "3                July                        27                          1   \n",
       "4                July                        27                          1   \n",
       "5                July                        27                          1   \n",
       "6                July                        27                          1   \n",
       "7                July                        27                          1   \n",
       "8                July                        27                          1   \n",
       "9                July                        27                          1   \n",
       "10               July                        27                          1   \n",
       "11               July                        27                          1   \n",
       "12               July                        27                          1   \n",
       "13               July                        27                          1   \n",
       "14               July                        27                          1   \n",
       "\n",
       "    stays_in_weekend_nights  stays_in_week_nights  adults  ...  deposit_type  \\\n",
       "0                         0                     0       2  ...    No Deposit   \n",
       "1                         0                     0       2  ...    No Deposit   \n",
       "2                         0                     1       1  ...    No Deposit   \n",
       "3                         0                     1       1  ...    No Deposit   \n",
       "4                         0                     2       2  ...    No Deposit   \n",
       "5                         0                     2       2  ...    No Deposit   \n",
       "6                         0                     2       2  ...    No Deposit   \n",
       "7                         0                     2       2  ...    No Deposit   \n",
       "8                         0                     3       2  ...    No Deposit   \n",
       "9                         0                     3       2  ...    No Deposit   \n",
       "10                        0                     4       2  ...    No Deposit   \n",
       "11                        0                     4       2  ...    No Deposit   \n",
       "12                        0                     4       2  ...    No Deposit   \n",
       "13                        0                     4       2  ...    No Deposit   \n",
       "14                        0                     4       2  ...    No Deposit   \n",
       "\n",
       "    agent company days_in_waiting_list customer_type     adr  \\\n",
       "0     NaN     NaN                    0     Transient    0.00   \n",
       "1     NaN     NaN                    0     Transient    0.00   \n",
       "2     NaN     NaN                    0     Transient   75.00   \n",
       "3   304.0     NaN                    0     Transient   75.00   \n",
       "4   240.0     NaN                    0     Transient   98.00   \n",
       "5   240.0     NaN                    0     Transient   98.00   \n",
       "6     NaN     NaN                    0     Transient  107.00   \n",
       "7   303.0     NaN                    0     Transient  103.00   \n",
       "8   240.0     NaN                    0     Transient   82.00   \n",
       "9    15.0     NaN                    0     Transient  105.50   \n",
       "10  240.0     NaN                    0     Transient  123.00   \n",
       "11  240.0     NaN                    0     Transient  145.00   \n",
       "12  240.0     NaN                    0     Transient   97.00   \n",
       "13  241.0     NaN                    0     Transient  154.77   \n",
       "14  241.0     NaN                    0     Transient   94.71   \n",
       "\n",
       "    required_car_parking_spaces  total_of_special_requests  \\\n",
       "0                             0                          0   \n",
       "1                             0                          0   \n",
       "2                             0                          0   \n",
       "3                             0                          0   \n",
       "4                             0                          1   \n",
       "5                             0                          1   \n",
       "6                             0                          0   \n",
       "7                             0                          1   \n",
       "8                             0                          1   \n",
       "9                             0                          0   \n",
       "10                            0                          0   \n",
       "11                            0                          0   \n",
       "12                            0                          3   \n",
       "13                            0                          1   \n",
       "14                            0                          0   \n",
       "\n",
       "    reservation_status reservation_status_date  \n",
       "0            Check-Out              2015-07-01  \n",
       "1            Check-Out              2015-07-01  \n",
       "2            Check-Out              2015-07-02  \n",
       "3            Check-Out              2015-07-02  \n",
       "4            Check-Out              2015-07-03  \n",
       "5            Check-Out              2015-07-03  \n",
       "6            Check-Out              2015-07-03  \n",
       "7            Check-Out              2015-07-03  \n",
       "8             Canceled              2015-05-06  \n",
       "9             Canceled              2015-04-22  \n",
       "10            Canceled              2015-06-23  \n",
       "11           Check-Out              2015-07-05  \n",
       "12           Check-Out              2015-07-05  \n",
       "13           Check-Out              2015-07-05  \n",
       "14           Check-Out              2015-07-05  \n",
       "\n",
       "[15 rows x 32 columns]"
      ]
     },
     "execution_count": 262,
     "metadata": {},
     "output_type": "execute_result"
    }
   ],
   "source": [
    "import pandas as pd # import pandas \n",
    "import matplotlib.pyplot as plt\n",
    "from pandas import DataFrame\n",
    "import os \n",
    "bookings = pd.read_csv(\"/Users/brindamunuswamy/Desktop/MIS581/hotel_bookings.csv\") # read CSV into pandas\n",
    "bookings.head(15) #reading top 5 rows"
   ]
  },
  {
   "cell_type": "code",
   "execution_count": 263,
   "metadata": {},
   "outputs": [
    {
     "name": "stdout",
     "output_type": "stream",
     "text": [
      "<class 'pandas.core.frame.DataFrame'>\n",
      "RangeIndex: 119390 entries, 0 to 119389\n",
      "Data columns (total 32 columns):\n",
      " #   Column                          Non-Null Count   Dtype  \n",
      "---  ------                          --------------   -----  \n",
      " 0   hotel                           119390 non-null  object \n",
      " 1   is_canceled                     119390 non-null  int64  \n",
      " 2   lead_time                       119390 non-null  int64  \n",
      " 3   arrival_date_year               119390 non-null  int64  \n",
      " 4   arrival_date_month              119390 non-null  object \n",
      " 5   arrival_date_week_number        119390 non-null  int64  \n",
      " 6   arrival_date_day_of_month       119390 non-null  int64  \n",
      " 7   stays_in_weekend_nights         119390 non-null  int64  \n",
      " 8   stays_in_week_nights            119390 non-null  int64  \n",
      " 9   adults                          119390 non-null  int64  \n",
      " 10  children                        119386 non-null  float64\n",
      " 11  babies                          119390 non-null  int64  \n",
      " 12  meal                            119390 non-null  object \n",
      " 13  country                         118902 non-null  object \n",
      " 14  market_segment                  119390 non-null  object \n",
      " 15  distribution_channel            119390 non-null  object \n",
      " 16  is_repeated_guest               119390 non-null  int64  \n",
      " 17  previous_cancellations          119390 non-null  int64  \n",
      " 18  previous_bookings_not_canceled  119390 non-null  int64  \n",
      " 19  reserved_room_type              119390 non-null  object \n",
      " 20  assigned_room_type              119390 non-null  object \n",
      " 21  booking_changes                 119390 non-null  int64  \n",
      " 22  deposit_type                    119390 non-null  object \n",
      " 23  agent                           103050 non-null  float64\n",
      " 24  company                         6797 non-null    float64\n",
      " 25  days_in_waiting_list            119390 non-null  int64  \n",
      " 26  customer_type                   119390 non-null  object \n",
      " 27  adr                             119390 non-null  float64\n",
      " 28  required_car_parking_spaces     119390 non-null  int64  \n",
      " 29  total_of_special_requests       119390 non-null  int64  \n",
      " 30  reservation_status              119390 non-null  object \n",
      " 31  reservation_status_date         119390 non-null  object \n",
      "dtypes: float64(4), int64(16), object(12)\n",
      "memory usage: 29.1+ MB\n"
     ]
    }
   ],
   "source": [
    "bookings.info() # initial analysis of the dataset "
   ]
  },
  {
   "cell_type": "code",
   "execution_count": 264,
   "metadata": {},
   "outputs": [
    {
     "data": {
      "text/plain": [
       "hotel                                  0\n",
       "is_canceled                            0\n",
       "lead_time                              0\n",
       "arrival_date_year                      0\n",
       "arrival_date_month                     0\n",
       "arrival_date_week_number               0\n",
       "arrival_date_day_of_month              0\n",
       "stays_in_weekend_nights                0\n",
       "stays_in_week_nights                   0\n",
       "adults                                 0\n",
       "children                               4\n",
       "babies                                 0\n",
       "meal                                   0\n",
       "country                              488\n",
       "market_segment                         0\n",
       "distribution_channel                   0\n",
       "is_repeated_guest                      0\n",
       "previous_cancellations                 0\n",
       "previous_bookings_not_canceled         0\n",
       "reserved_room_type                     0\n",
       "assigned_room_type                     0\n",
       "booking_changes                        0\n",
       "deposit_type                           0\n",
       "agent                              16340\n",
       "company                           112593\n",
       "days_in_waiting_list                   0\n",
       "customer_type                          0\n",
       "adr                                    0\n",
       "required_car_parking_spaces            0\n",
       "total_of_special_requests              0\n",
       "reservation_status                     0\n",
       "reservation_status_date                0\n",
       "dtype: int64"
      ]
     },
     "execution_count": 264,
     "metadata": {},
     "output_type": "execute_result"
    }
   ],
   "source": [
    "bookings.isnull().sum() # checking for null values"
   ]
  },
  {
   "cell_type": "code",
   "execution_count": 265,
   "metadata": {},
   "outputs": [
    {
     "data": {
      "text/plain": [
       "<BarContainer object of 333 artists>"
      ]
     },
     "execution_count": 265,
     "metadata": {},
     "output_type": "execute_result"
    },
    {
     "data": {
      "image/png": "[encoded data removed]",
      "text/plain": [
       "<Figure size 432x288 with 1 Axes>"
      ]
     },
     "metadata": {
      "needs_background": "light"
     },
     "output_type": "display_data"
    }
   ],
   "source": [
    "data = bookings['agent'].value_counts() # checking for how agent IDs are distributed in the dataset\n",
    "plt.bar(data.index,data.values)"
   ]
  },
  {
   "cell_type": "code",
   "execution_count": 266,
   "metadata": {},
   "outputs": [
    {
     "data": {
      "text/plain": [
       "<BarContainer object of 352 artists>"
      ]
     },
     "execution_count": 266,
     "metadata": {},
     "output_type": "execute_result"
    },
    {
     "data": {
      "image/png": "[encoded data removed]",
      "text/plain": [
       "<Figure size 432x288 with 1 Axes>"
      ]
     },
     "metadata": {
      "needs_background": "light"
     },
     "output_type": "display_data"
    }
   ],
   "source": [
    "data = bookings['company'].value_counts() # checking how company IDs are distibuted in the data set\n",
    "plt.bar(data.index,data.values)"
   ]
  },
  {
   "cell_type": "code",
   "execution_count": 267,
   "metadata": {},
   "outputs": [
    {
     "data": {
      "text/plain": [
       "<BarContainer object of 177 artists>"
      ]
     },
     "execution_count": 267,
     "metadata": {},
     "output_type": "execute_result"
    },
    {
     "data": {
      "image/png": "[encoded data removed]",
      "text/plain": [
       "<Figure size 432x288 with 1 Axes>"
      ]
     },
     "metadata": {
      "needs_background": "light"
     },
     "output_type": "display_data"
    }
   ],
   "source": [
    "data = bookings['country'].value_counts() # checking how country codes are distibuted in the dataset \n",
    "plt.bar(data.index,data.values)"
   ]
  },
  {
   "cell_type": "code",
   "execution_count": 268,
   "metadata": {},
   "outputs": [
    {
     "name": "stdout",
     "output_type": "stream",
     "text": [
      "<class 'pandas.core.frame.DataFrame'>\n",
      "Int64Index: 40060 entries, 0 to 40059\n",
      "Data columns (total 32 columns):\n",
      " #   Column                          Non-Null Count  Dtype  \n",
      "---  ------                          --------------  -----  \n",
      " 0   hotel                           40060 non-null  object \n",
      " 1   is_canceled                     40060 non-null  int64  \n",
      " 2   lead_time                       40060 non-null  int64  \n",
      " 3   arrival_date_year               40060 non-null  int64  \n",
      " 4   arrival_date_month              40060 non-null  object \n",
      " 5   arrival_date_week_number        40060 non-null  int64  \n",
      " 6   arrival_date_day_of_month       40060 non-null  int64  \n",
      " 7   stays_in_weekend_nights         40060 non-null  int64  \n",
      " 8   stays_in_week_nights            40060 non-null  int64  \n",
      " 9   adults                          40060 non-null  int64  \n",
      " 10  children                        40060 non-null  float64\n",
      " 11  babies                          40060 non-null  int64  \n",
      " 12  meal                            40060 non-null  object \n",
      " 13  country                         39596 non-null  object \n",
      " 14  market_segment                  40060 non-null  object \n",
      " 15  distribution_channel            40060 non-null  object \n",
      " 16  is_repeated_guest               40060 non-null  int64  \n",
      " 17  previous_cancellations          40060 non-null  int64  \n",
      " 18  previous_bookings_not_canceled  40060 non-null  int64  \n",
      " 19  reserved_room_type              40060 non-null  object \n",
      " 20  assigned_room_type              40060 non-null  object \n",
      " 21  booking_changes                 40060 non-null  int64  \n",
      " 22  deposit_type                    40060 non-null  object \n",
      " 23  agent                           31851 non-null  float64\n",
      " 24  company                         3108 non-null   float64\n",
      " 25  days_in_waiting_list            40060 non-null  int64  \n",
      " 26  customer_type                   40060 non-null  object \n",
      " 27  adr                             40060 non-null  float64\n",
      " 28  required_car_parking_spaces     40060 non-null  int64  \n",
      " 29  total_of_special_requests       40060 non-null  int64  \n",
      " 30  reservation_status              40060 non-null  object \n",
      " 31  reservation_status_date         40060 non-null  object \n",
      "dtypes: float64(4), int64(16), object(12)\n",
      "memory usage: 10.1+ MB\n"
     ]
    }
   ],
   "source": [
    "booking_1 = bookings['hotel'] == \"Resort Hotel\" # dataset with records of resort hotel only \n",
    "booking_h1 = bookings.loc[booking_1,:] #new df with records of resort hotel \n",
    "booking_h1.head() # reading top 5 records\n",
    "booking_h1.info()"
   ]
  },
  {
   "cell_type": "code",
   "execution_count": 269,
   "metadata": {},
   "outputs": [
    {
     "name": "stdout",
     "output_type": "stream",
     "text": [
      "<class 'pandas.core.frame.DataFrame'>\n",
      "Int64Index: 79330 entries, 40060 to 119389\n",
      "Data columns (total 32 columns):\n",
      " #   Column                          Non-Null Count  Dtype  \n",
      "---  ------                          --------------  -----  \n",
      " 0   hotel                           79330 non-null  object \n",
      " 1   is_canceled                     79330 non-null  int64  \n",
      " 2   lead_time                       79330 non-null  int64  \n",
      " 3   arrival_date_year               79330 non-null  int64  \n",
      " 4   arrival_date_month              79330 non-null  object \n",
      " 5   arrival_date_week_number        79330 non-null  int64  \n",
      " 6   arrival_date_day_of_month       79330 non-null  int64  \n",
      " 7   stays_in_weekend_nights         79330 non-null  int64  \n",
      " 8   stays_in_week_nights            79330 non-null  int64  \n",
      " 9   adults                          79330 non-null  int64  \n",
      " 10  children                        79326 non-null  float64\n",
      " 11  babies                          79330 non-null  int64  \n",
      " 12  meal                            79330 non-null  object \n",
      " 13  country                         79306 non-null  object \n",
      " 14  market_segment                  79330 non-null  object \n",
      " 15  distribution_channel            79330 non-null  object \n",
      " 16  is_repeated_guest               79330 non-null  int64  \n",
      " 17  previous_cancellations          79330 non-null  int64  \n",
      " 18  previous_bookings_not_canceled  79330 non-null  int64  \n",
      " 19  reserved_room_type              79330 non-null  object \n",
      " 20  assigned_room_type              79330 non-null  object \n",
      " 21  booking_changes                 79330 non-null  int64  \n",
      " 22  deposit_type                    79330 non-null  object \n",
      " 23  agent                           71199 non-null  float64\n",
      " 24  company                         3689 non-null   float64\n",
      " 25  days_in_waiting_list            79330 non-null  int64  \n",
      " 26  customer_type                   79330 non-null  object \n",
      " 27  adr                             79330 non-null  float64\n",
      " 28  required_car_parking_spaces     79330 non-null  int64  \n",
      " 29  total_of_special_requests       79330 non-null  int64  \n",
      " 30  reservation_status              79330 non-null  object \n",
      " 31  reservation_status_date         79330 non-null  object \n",
      "dtypes: float64(4), int64(16), object(12)\n",
      "memory usage: 20.0+ MB\n"
     ]
    }
   ],
   "source": [
    "booking_2 = bookings['hotel'] == \"City Hotel\" # dataset with records of city hotel \n",
    "booking_h2 = bookings.loc[booking_2,:] #new df with city hotel records\n",
    "booking_h2.head() # reading top 5 records\n",
    "booking_h2.info()"
   ]
  },
  {
   "cell_type": "code",
   "execution_count": 270,
   "metadata": {},
   "outputs": [
    {
     "data": {
      "image/png": "[encoded data removed]",
      "text/plain": [
       "<Figure size 432x288 with 1 Axes>"
      ]
     },
     "metadata": {
      "needs_background": "light"
     },
     "output_type": "display_data"
    }
   ],
   "source": [
    "h1 = booking_h1['is_canceled'].value_counts(ascending=True) # plotting cancelled booking counts in city hotel versus resort hotel \n",
    "h2 = booking_h2['is_canceled'].value_counts()\n",
    "\n",
    "\n",
    "p1 = plt.bar([\"CheckedIn\",\"Canceled\"],h1,0.4,label=\"Resort Hotel\", color = '#557f2d',edgecolor='white') \n",
    "#plot one bar chart\n",
    "p2 = plt.bar([\"CheckedIn\",\"Canceled\"],h2,0.4,bottom=h1,label=\"City Hotel\",color='#2d7f5e',edgecolor='white')\n",
    "# plot stacked bar chart on top of the first one\n",
    "plt.legend() # plot the legend\n",
    "plt.title('Cancellations by Hotel Type') # plot the title\n",
    "\n",
    "j =0 # counter to display values in the array on the bar chart\n",
    "totals = [] # empty list to capture the bar height \n",
    "for i in p1.patches: \n",
    "    totals.append(i.get_height())\n",
    "    #print(totals)\n",
    "for i in p1.patches: # loop to display bar height in each bar \n",
    "    plt.text(i.get_x()+.15, i.get_height()-5000, str(totals[j]), fontsize=12,color='white')\n",
    "    #alignment and font of display\n",
    "    j = j+1\n",
    "    k =0 # counter to display values in the array on the bar chart\n",
    "totals1 = [] # empty list to capture the bar height \n",
    "for l in p2.patches: \n",
    "    totals1.append(l.get_height())\n",
    "    #print(totals1)\n",
    "for l in p2.patches: # loop to display bar height in each bar \n",
    "    #print (k)\n",
    "    if k == 1: \n",
    "        height = i.get_height()+l.get_height()-10\n",
    "    else:\n",
    "        \n",
    "        height = l.get_height()\n",
    "        #print(height)\n",
    "    plt.text(l.get_x()+.15,40000, str(totals1[k]), fontsize=12,color='white')\n",
    "    #alignment and font of display\n",
    "    k = k+1"
   ]
  },
  {
   "cell_type": "code",
   "execution_count": 271,
   "metadata": {
    "scrolled": true
   },
   "outputs": [
    {
     "name": "stdout",
     "output_type": "stream",
     "text": [
      "<class 'pandas.core.frame.DataFrame'>\n",
      "Int64Index: 75166 entries, 0 to 119389\n",
      "Data columns (total 32 columns):\n",
      " #   Column                          Non-Null Count  Dtype  \n",
      "---  ------                          --------------  -----  \n",
      " 0   hotel                           75166 non-null  object \n",
      " 1   is_canceled                     75166 non-null  int64  \n",
      " 2   lead_time                       75166 non-null  int64  \n",
      " 3   arrival_date_year               75166 non-null  int64  \n",
      " 4   arrival_date_month              75166 non-null  object \n",
      " 5   arrival_date_week_number        75166 non-null  int64  \n",
      " 6   arrival_date_day_of_month       75166 non-null  int64  \n",
      " 7   stays_in_weekend_nights         75166 non-null  int64  \n",
      " 8   stays_in_week_nights            75166 non-null  int64  \n",
      " 9   adults                          75166 non-null  int64  \n",
      " 10  children                        75166 non-null  float64\n",
      " 11  babies                          75166 non-null  int64  \n",
      " 12  meal                            75166 non-null  object \n",
      " 13  country                         74745 non-null  object \n",
      " 14  market_segment                  75166 non-null  object \n",
      " 15  distribution_channel            75166 non-null  object \n",
      " 16  is_repeated_guest               75166 non-null  int64  \n",
      " 17  previous_cancellations          75166 non-null  int64  \n",
      " 18  previous_bookings_not_canceled  75166 non-null  int64  \n",
      " 19  reserved_room_type              75166 non-null  object \n",
      " 20  assigned_room_type              75166 non-null  object \n",
      " 21  booking_changes                 75166 non-null  int64  \n",
      " 22  deposit_type                    75166 non-null  object \n",
      " 23  agent                           62856 non-null  float64\n",
      " 24  company                         5606 non-null   float64\n",
      " 25  days_in_waiting_list            75166 non-null  int64  \n",
      " 26  customer_type                   75166 non-null  object \n",
      " 27  adr                             75166 non-null  float64\n",
      " 28  required_car_parking_spaces     75166 non-null  int64  \n",
      " 29  total_of_special_requests       75166 non-null  int64  \n",
      " 30  reservation_status              75166 non-null  object \n",
      " 31  reservation_status_date         75166 non-null  object \n",
      "dtypes: float64(4), int64(16), object(12)\n",
      "memory usage: 18.9+ MB\n"
     ]
    }
   ],
   "source": [
    "booking_3 = bookings['is_canceled'] == 0 # dataset with records of checked in booking in both resort and city hotel\n",
    "booking_check = bookings.loc[booking_3,:] #new df with checked in booking records\n",
    "booking_check.head() # reading top 5 records\n",
    "booking_check.info()"
   ]
  },
  {
   "cell_type": "code",
   "execution_count": 272,
   "metadata": {},
   "outputs": [
    {
     "name": "stdout",
     "output_type": "stream",
     "text": [
      "<class 'pandas.core.frame.DataFrame'>\n",
      "Int64Index: 44224 entries, 8 to 117295\n",
      "Data columns (total 32 columns):\n",
      " #   Column                          Non-Null Count  Dtype  \n",
      "---  ------                          --------------  -----  \n",
      " 0   hotel                           44224 non-null  object \n",
      " 1   is_canceled                     44224 non-null  int64  \n",
      " 2   lead_time                       44224 non-null  int64  \n",
      " 3   arrival_date_year               44224 non-null  int64  \n",
      " 4   arrival_date_month              44224 non-null  object \n",
      " 5   arrival_date_week_number        44224 non-null  int64  \n",
      " 6   arrival_date_day_of_month       44224 non-null  int64  \n",
      " 7   stays_in_weekend_nights         44224 non-null  int64  \n",
      " 8   stays_in_week_nights            44224 non-null  int64  \n",
      " 9   adults                          44224 non-null  int64  \n",
      " 10  children                        44220 non-null  float64\n",
      " 11  babies                          44224 non-null  int64  \n",
      " 12  meal                            44224 non-null  object \n",
      " 13  country                         44157 non-null  object \n",
      " 14  market_segment                  44224 non-null  object \n",
      " 15  distribution_channel            44224 non-null  object \n",
      " 16  is_repeated_guest               44224 non-null  int64  \n",
      " 17  previous_cancellations          44224 non-null  int64  \n",
      " 18  previous_bookings_not_canceled  44224 non-null  int64  \n",
      " 19  reserved_room_type              44224 non-null  object \n",
      " 20  assigned_room_type              44224 non-null  object \n",
      " 21  booking_changes                 44224 non-null  int64  \n",
      " 22  deposit_type                    44224 non-null  object \n",
      " 23  agent                           40194 non-null  float64\n",
      " 24  company                         1191 non-null   float64\n",
      " 25  days_in_waiting_list            44224 non-null  int64  \n",
      " 26  customer_type                   44224 non-null  object \n",
      " 27  adr                             44224 non-null  float64\n",
      " 28  required_car_parking_spaces     44224 non-null  int64  \n",
      " 29  total_of_special_requests       44224 non-null  int64  \n",
      " 30  reservation_status              44224 non-null  object \n",
      " 31  reservation_status_date         44224 non-null  object \n",
      "dtypes: float64(4), int64(16), object(12)\n",
      "memory usage: 11.1+ MB\n"
     ]
    }
   ],
   "source": [
    "booking_4 = bookings['is_canceled'] == 1 # dataset with records of cancelled bookings in both city and resort hotel\n",
    "booking_can = bookings.loc[booking_4,:] #new df with cancelled bookings\n",
    "booking_can.head() # reading top 5 records\n",
    "booking_can.info()"
   ]
  },
  {
   "cell_type": "code",
   "execution_count": 273,
   "metadata": {},
   "outputs": [
    {
     "data": {
      "image/png": "[encoded data removed]",
      "text/plain": [
       "<Figure size 432x288 with 1 Axes>"
      ]
     },
     "metadata": {},
     "output_type": "display_data"
    }
   ],
   "source": [
    "import numpy # plotting deposit type distribution in cancelled bookings \n",
    "can_segment = booking_can['customer_type'].value_counts()\n",
    "#print(can_segment)\n",
    "name=can_segment.index.tolist()\n",
    "#print(name)\n",
    "def absolute_value(val): # calculating the exact values to be displayed on the pie chart by writing a custom function\n",
    "    a  = numpy.round(val/100.*can_segment.sum(),0) #reverse calculating the exact count from sum \n",
    "    return int(a) #converting the float outcome into integer\n",
    "my_labels = name\n",
    "my_colors = ['lightblue','lightsteelblue','silver','thistle']\n",
    "my_explode = (0,0.1,0,0.1)\n",
    "#,'azure','thistle','lightcyan','cornsilk','red'\n",
    "\n",
    "fig1, ax1 = plt.subplots()\n",
    "\n",
    "ax1.pie(can_segment,labels=my_labels,autopct=absolute_value,shadow=True,colors=my_colors,explode=my_explode)\n",
    "\n",
    "plt.title(\"Doughnut chart of cancellations by customer type\") #pie chart title\n",
    "#draw circle\n",
    "centre_circle = plt.Circle((0,0),0.70,fc='white')\n",
    "fig = plt.gcf()\n",
    "fig.gca().add_artist(centre_circle)\n",
    "# Equal aspect ratio ensures that pie is drawn as a circle\n",
    "ax1.axis('equal')  \n",
    "plt.tight_layout()\n",
    "plt.show()"
   ]
  },
  {
   "cell_type": "code",
   "execution_count": 277,
   "metadata": {},
   "outputs": [
    {
     "data": {
      "image/png": "[encoded data removed]",
      "text/plain": [
       "<Figure size 432x288 with 1 Axes>"
      ]
     },
     "metadata": {},
     "output_type": "display_data"
    }
   ],
   "source": [
    "import numpy # plotting deposit type distribution in checked in bookings \n",
    "can_segment = booking_check['customer_type'].value_counts()\n",
    "#print(can_segment)\n",
    "name=can_segment.index.tolist()\n",
    "#print(name)\n",
    "def absolute_value(val): # calculating the exact values to be displayed on the pie chart by writing a custom function\n",
    "    a  = numpy.round(val/100.*can_segment.sum(),0) #reverse calculating the exact count from sum \n",
    "    return int(a) #converting the float outcome into integer\n",
    "my_labels = name\n",
    "my_colors = ['lightblue','lightsteelblue','silver','thistle']\n",
    "my_explode = (0, 0.1, 0,0.1)\n",
    "#'azure','thistle','lightcyan','cornsilk'\n",
    "\n",
    "fig1, ax1 = plt.subplots()\n",
    "\n",
    "ax1.pie(can_segment,labels=my_labels,autopct=absolute_value,shadow=True,colors=my_colors,explode=my_explode)\n",
    "\n",
    "plt.title(\"Doughnut chart of check ins by customer type\") #pie chart title\n",
    "#draw circle\n",
    "centre_circle = plt.Circle((0,0),0.70,fc='white')\n",
    "fig = plt.gcf()\n",
    "fig.gca().add_artist(centre_circle)\n",
    "# Equal aspect ratio ensures that pie is drawn as a circle\n",
    "ax1.axis('equal')  \n",
    "plt.tight_layout()\n",
    "plt.show()"
   ]
  },
  {
   "cell_type": "code",
   "execution_count": 278,
   "metadata": {},
   "outputs": [],
   "source": [
    "booking_5 = booking_h1['is_canceled'] == 0 # dataset with records of checked in bookings in h1\n",
    "booking_h1_check = booking_h1.loc[booking_5,:] #new df with checkins in h1\n",
    "booking_6 = booking_h1['is_canceled'] == 1 # dataset with records of cancellations in bookings in h1\n",
    "booking_h1_can = booking_h1.loc[booking_6,:] #ew df with cancellation in h1"
   ]
  },
  {
   "cell_type": "code",
   "execution_count": 279,
   "metadata": {},
   "outputs": [
    {
     "data": {
      "image/png": "[encoded data removed]",
      "text/plain": [
       "<Figure size 432x288 with 1 Axes>"
      ]
     },
     "metadata": {},
     "output_type": "display_data"
    }
   ],
   "source": [
    "h1_can_deposit = booking_h1_can['deposit_type'].value_counts()\n",
    "#print(h1_can_deposit)\n",
    "\n",
    "name=h1_can_deposit.index.tolist()\n",
    "#print(name)\n",
    "def absolute_value(val): # calculating the exact values to be displayed on the pie chart by writing a custom function\n",
    "    a  = numpy.round(val/100.*h1_can_deposit.sum(),0) #reverse calculating the exact count from sum \n",
    "    return int(a) #converting the float outcome into integer\n",
    "my_labels = name\n",
    "my_colors = ['lightblue','lightsteelblue','red']\n",
    "my_explode = (0,0,0)\n",
    "plt.title('Pie chart of Cancellations in Resort Hotel by Deposit Type ') #pie chart title\n",
    "plt.pie(h1_can_deposit,labels=my_labels,autopct=\"%.1f%%\",shadow=True,colors=my_colors,explode=my_explode) #plotting the pie chart based on the value count panda series\n",
    "plt.show()\n"
   ]
  },
  {
   "cell_type": "code",
   "execution_count": 280,
   "metadata": {},
   "outputs": [
    {
     "data": {
      "image/png": "[encoded data removed]",
      "text/plain": [
       "<Figure size 432x288 with 1 Axes>"
      ]
     },
     "metadata": {},
     "output_type": "display_data"
    }
   ],
   "source": [
    "h2_can_deposit = booking_h2_can['deposit_type'].value_counts()\n",
    "#print(h2_can_deposit)\n",
    "\n",
    "name=h2_can_deposit.index.tolist()\n",
    "#print(name)\n",
    "def absolute_value(val): # calculating the exact values to be displayed on the pie chart by writing a custom function\n",
    "    a  = numpy.round(val/100.*h2_can_deposit.sum(),0) #reverse calculating the exact count from sum \n",
    "    return int(a) #converting the float outcome into integer\n",
    "my_labels = name\n",
    "my_colors = ['lightblue','lightsteelblue','red']\n",
    "my_explode = (0,0,0)\n",
    "plt.title('Pie chart of Cancellations in City Hotel by Deposit Type ') #pie chart title\n",
    "plt.pie(h2_can_deposit,labels=my_labels,autopct=\"%.1f%%\",shadow=True,colors=my_colors,explode=my_explode) #plotting the pie chart based on the value count panda series\n",
    "plt.show()"
   ]
  },
  {
   "cell_type": "code",
   "execution_count": 281,
   "metadata": {},
   "outputs": [],
   "source": [
    "booking_6 = booking_h2['is_canceled'] == 0 # dataset with records check ins in h2\n",
    "booking_h2_check = booking_h2.loc[booking_6,:] #new df with check ins in city hotel\n",
    "\n",
    "booking_7 = booking_h2['is_canceled'] == 1 # dataset with records cancellations in h2\n",
    "booking_h2_can = booking_h2.loc[booking_7,:] #nnew df with cancellations in city hotel"
   ]
  },
  {
   "cell_type": "code",
   "execution_count": 282,
   "metadata": {},
   "outputs": [
    {
     "data": {
      "text/plain": [
       "2016    4930\n",
       "2017    4054\n",
       "2015    2138\n",
       "Name: arrival_date_year, dtype: int64"
      ]
     },
     "execution_count": 282,
     "metadata": {},
     "output_type": "execute_result"
    }
   ],
   "source": [
    "booking_h1_can['arrival_date_year'].value_counts() # cancellation counts by year in h1"
   ]
  },
  {
   "cell_type": "code",
   "execution_count": 283,
   "metadata": {},
   "outputs": [
    {
     "data": {
      "text/plain": [
       "2016    15407\n",
       "2017    11691\n",
       "2015     6004\n",
       "Name: arrival_date_year, dtype: int64"
      ]
     },
     "execution_count": 283,
     "metadata": {},
     "output_type": "execute_result"
    }
   ],
   "source": [
    "booking_h2_can['arrival_date_year'].value_counts() # cancellation counts by year in h2"
   ]
  },
  {
   "cell_type": "code",
   "execution_count": 284,
   "metadata": {},
   "outputs": [
    {
     "data": {
      "text/plain": [
       "2016    22733\n",
       "2017    15817\n",
       "2015     7678\n",
       "Name: arrival_date_year, dtype: int64"
      ]
     },
     "execution_count": 284,
     "metadata": {},
     "output_type": "execute_result"
    }
   ],
   "source": [
    "booking_h2_check['arrival_date_year'].value_counts() # checkins counts by year in h2"
   ]
  },
  {
   "cell_type": "code",
   "execution_count": 286,
   "metadata": {},
   "outputs": [
    {
     "data": {
      "text/plain": [
       "2016    13637\n",
       "2017     9125\n",
       "2015     6176\n",
       "Name: arrival_date_year, dtype: int64"
      ]
     },
     "execution_count": 286,
     "metadata": {},
     "output_type": "execute_result"
    }
   ],
   "source": [
    "booking_h1_check['arrival_date_year'].value_counts()  #checkins counts by year in h1"
   ]
  },
  {
   "cell_type": "code",
   "execution_count": 287,
   "metadata": {},
   "outputs": [
    {
     "name": "stdout",
     "output_type": "stream",
     "text": [
      "No Deposit    46198\n",
      "Non Refund       24\n",
      "Refundable        6\n",
      "Name: deposit_type, dtype: int64\n"
     ]
    }
   ],
   "source": [
    "h2_check_deposit = booking_h2_check['deposit_type'].value_counts()\n",
    "print(h2_check_deposit)"
   ]
  },
  {
   "cell_type": "code",
   "execution_count": 288,
   "metadata": {},
   "outputs": [
    {
     "name": "stdout",
     "output_type": "stream",
     "text": [
      "Online TA        11481\n",
      "Offline TA/TO     6334\n",
      "Direct            5635\n",
      "Groups            3362\n",
      "Corporate         1958\n",
      "Complementary      168\n",
      "Name: market_segment, dtype: int64\n"
     ]
    },
    {
     "data": {
      "text/plain": [
       "<matplotlib.axes._subplots.AxesSubplot at 0x128c50dc0>"
      ]
     },
     "execution_count": 288,
     "metadata": {},
     "output_type": "execute_result"
    },
    {
     "data": {
      "image/png": "[encoded data removed]",
      "text/plain": [
       "<Figure size 432x288 with 1 Axes>"
      ]
     },
     "metadata": {
      "needs_background": "light"
     },
     "output_type": "display_data"
    }
   ],
   "source": [
    "h1can_segment = booking_h1_check['market_segment'].value_counts()\n",
    "print(h1can_segment)\n",
    "plt.title('Number of checkins by market segment, for Resort Hotel H1')\n",
    "h1can_segment.plot(kind='bar')"
   ]
  },
  {
   "cell_type": "code",
   "execution_count": 289,
   "metadata": {},
   "outputs": [
    {
     "name": "stdout",
     "output_type": "stream",
     "text": [
      "Online TA        6248\n",
      "Groups           2474\n",
      "Offline TA/TO    1138\n",
      "Direct            878\n",
      "Corporate         351\n",
      "Complementary      33\n",
      "Name: market_segment, dtype: int64\n"
     ]
    },
    {
     "data": {
      "text/plain": [
       "<matplotlib.axes._subplots.AxesSubplot at 0x1257d92e0>"
      ]
     },
     "execution_count": 289,
     "metadata": {},
     "output_type": "execute_result"
    },
    {
     "data": {
      "image/png": "[encoded data removed]",
      "text/plain": [
       "<Figure size 432x288 with 1 Axes>"
      ]
     },
     "metadata": {
      "needs_background": "light"
     },
     "output_type": "display_data"
    }
   ],
   "source": [
    "h1can_segment = booking_h1_can['market_segment'].value_counts()\n",
    "print(h1can_segment)\n",
    "plt.title('Number of cancellations by market segment, for Resort Hotel H1')\n",
    "h1can_segment.plot(kind='bar')"
   ]
  },
  {
   "cell_type": "code",
   "execution_count": 290,
   "metadata": {},
   "outputs": [
    {
     "name": "stdout",
     "output_type": "stream",
     "text": [
      "Online TA        24257\n",
      "Offline TA/TO     9574\n",
      "Direct            5037\n",
      "Groups            4352\n",
      "Corporate         2345\n",
      "Complementary      478\n",
      "Aviation           185\n",
      "Name: market_segment, dtype: int64\n"
     ]
    },
    {
     "data": {
      "text/plain": [
       "<matplotlib.axes._subplots.AxesSubplot at 0x12cbb07f0>"
      ]
     },
     "execution_count": 290,
     "metadata": {},
     "output_type": "execute_result"
    },
    {
     "data": {
      "image/png": "[encoded data removed]",
      "text/plain": [
       "<Figure size 432x288 with 1 Axes>"
      ]
     },
     "metadata": {
      "needs_background": "light"
     },
     "output_type": "display_data"
    }
   ],
   "source": [
    "h2can_segment = booking_h2_check['market_segment'].value_counts()\n",
    "print(h2can_segment)\n",
    "plt.title('Number of checkins by market segment, for City Hotel H2')\n",
    "h2can_segment.plot(kind='bar')"
   ]
  },
  {
   "cell_type": "code",
   "execution_count": 293,
   "metadata": {},
   "outputs": [
    {
     "name": "stdout",
     "output_type": "stream",
     "text": [
      "Online TA        14491\n",
      "Groups            9623\n",
      "Offline TA/TO     7173\n",
      "Direct            1056\n",
      "Corporate          641\n",
      "Complementary       64\n",
      "Aviation            52\n",
      "Undefined            2\n",
      "Name: market_segment, dtype: int64\n"
     ]
    },
    {
     "data": {
      "text/plain": [
       "<matplotlib.axes._subplots.AxesSubplot at 0x12cbdee80>"
      ]
     },
     "execution_count": 293,
     "metadata": {},
     "output_type": "execute_result"
    },
    {
     "data": {
      "image/png": "[encoded data removed]",
      "text/plain": [
       "<Figure size 432x288 with 1 Axes>"
      ]
     },
     "metadata": {
      "needs_background": "light"
     },
     "output_type": "display_data"
    }
   ],
   "source": [
    "h2can_segment = booking_h2_can['market_segment'].value_counts()\n",
    "print(h2can_segment)\n",
    "plt.title('Number of cancellations by market segment, for City Hotel H2')\n",
    "h2can_segment.plot(kind='bar')"
   ]
  },
  {
   "cell_type": "code",
   "execution_count": 294,
   "metadata": {},
   "outputs": [
    {
     "name": "stdout",
     "output_type": "stream",
     "text": [
      "Online TA        35738\n",
      "Offline TA/TO    15908\n",
      "Direct           10672\n",
      "Groups            7714\n",
      "Corporate         4303\n",
      "Complementary      646\n",
      "Aviation           185\n",
      "Name: market_segment, dtype: int64\n"
     ]
    },
    {
     "data": {
      "text/plain": [
       "<matplotlib.axes._subplots.AxesSubplot at 0x130c2ed30>"
      ]
     },
     "execution_count": 294,
     "metadata": {},
     "output_type": "execute_result"
    },
    {
     "data": {
      "image/png": "[encoded data removed]",
      "text/plain": [
       "<Figure size 432x288 with 1 Axes>"
      ]
     },
     "metadata": {
      "needs_background": "light"
     },
     "output_type": "display_data"
    }
   ],
   "source": [
    "can_segment = booking_can['market_segment'].value_counts() # plotting market segment for cancelled bookings \n",
    "print(check_segment)\n",
    "plt.title('Overall cancellations by market segment')\n",
    "can_segment.plot(kind='bar')"
   ]
  },
  {
   "cell_type": "code",
   "execution_count": null,
   "metadata": {},
   "outputs": [],
   "source": []
  }
 ],
 "metadata": {
  "kernelspec": {
   "display_name": "Python 3",
   "language": "python",
   "name": "python3"
  },
  "language_info": {
   "codemirror_mode": {
    "name": "ipython",
    "version": 3
   },
   "file_extension": ".py",
   "mimetype": "text/x-python",
   "name": "python",
   "nbconvert_exporter": "python",
   "pygments_lexer": "ipython3",
   "version": "3.8.3"
  }
 },
 "nbformat": 4,
 "nbformat_minor": 4
}
